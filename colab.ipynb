{
  "nbformat": 4,
  "nbformat_minor": 0,
  "metadata": {
    "colab": {
      "name": "Untitled9.ipynb",
      "version": "0.3.2",
      "provenance": []
    },
    "kernelspec": {
      "name": "python3",
      "display_name": "Python 3"
    },
    "accelerator": "GPU"
  },
  "cells": [
    {
      "metadata": {
        "id": "Ad89Or0K-DB2",
        "colab_type": "code",
        "colab": {
          "base_uri": "https://localhost:8080/",
          "height": 34
        },
        "outputId": "f23a724f-9b6e-47fa-9147-0972bb4e80ff"
      },
      "cell_type": "code",
      "source": [
        "import keras"
      ],
      "execution_count": 1,
      "outputs": [
        {
          "output_type": "stream",
          "text": [
            "Using TensorFlow backend.\n"
          ],
          "name": "stderr"
        }
      ]
    },
    {
      "metadata": {
        "id": "Eo-YnYYm-10O",
        "colab_type": "code",
        "colab": {
          "base_uri": "https://localhost:8080/",
          "height": 121
        },
        "outputId": "516c451c-eb68-447e-c6b1-66a5fccf4a85"
      },
      "cell_type": "code",
      "source": [
        "from google.colab import drive\n",
        "drive.mount('/gdrive')"
      ],
      "execution_count": 2,
      "outputs": [
        {
          "output_type": "stream",
          "text": [
            "Go to this URL in a browser: https://accounts.google.com/o/oauth2/auth?client_id=947318989803-6bn6qk8qdgf4n4g3pfee6491hc0brc4i.apps.googleusercontent.com&redirect_uri=urn%3Aietf%3Awg%3Aoauth%3A2.0%3Aoob&scope=email%20https%3A%2F%2Fwww.googleapis.com%2Fauth%2Fdocs.test%20https%3A%2F%2Fwww.googleapis.com%2Fauth%2Fdrive%20https%3A%2F%2Fwww.googleapis.com%2Fauth%2Fdrive.photos.readonly%20https%3A%2F%2Fwww.googleapis.com%2Fauth%2Fpeopleapi.readonly&response_type=code\n",
            "\n",
            "Enter your authorization code:\n",
            "··········\n",
            "Mounted at /gdrive\n"
          ],
          "name": "stdout"
        }
      ]
    },
    {
      "metadata": {
        "id": "RBhACQZw_NaP",
        "colab_type": "code",
        "colab": {
          "base_uri": "https://localhost:8080/",
          "height": 638
        },
        "outputId": "3e0e6dec-b203-4ff4-92d6-5743ebb7e3c3"
      },
      "cell_type": "code",
      "source": [
        "# 列出我所有Google drive檔案\n",
        "import glob\n",
        "glob.glob(\"/gdrive/My Drive/*\")"
      ],
      "execution_count": 3,
      "outputs": [
        {
          "output_type": "execute_result",
          "data": {
            "text/plain": [
              "['/gdrive/My Drive/course',\n",
              " '/gdrive/My Drive/animate',\n",
              " '/gdrive/My Drive/java',\n",
              " '/gdrive/My Drive/m',\n",
              " '/gdrive/My Drive/無標題的試算表.gsheet',\n",
              " '/gdrive/My Drive/Copy of Checkbook Register.gsheet',\n",
              " '/gdrive/My Drive/l2.xlsm',\n",
              " '/gdrive/My Drive/l2.gsheet',\n",
              " '/gdrive/My Drive/無標題的試算表.gform',\n",
              " '/gdrive/My Drive/無標題的試算表 (1).gform',\n",
              " '/gdrive/My Drive/無標題表單.gform',\n",
              " '/gdrive/My Drive/test.gsheet',\n",
              " '/gdrive/My Drive/無標題的試算表 (1).gsheet',\n",
              " '/gdrive/My Drive/無標題的試算表 (2).gform',\n",
              " '/gdrive/My Drive/testetst.gform',\n",
              " '/gdrive/My Drive/testetst (回應).gsheet',\n",
              " '/gdrive/My Drive/testetst.gsheet',\n",
              " '/gdrive/My Drive/無標題的試算表 (4).gform',\n",
              " '/gdrive/My Drive/無標題的試算表 (6).gsheet',\n",
              " '/gdrive/My Drive/hw.xlsm',\n",
              " '/gdrive/My Drive/Homework.gsheet',\n",
              " '/gdrive/My Drive/無標題的試算表 (3).gform',\n",
              " '/gdrive/My Drive/無標題的試算表 (5).gsheet',\n",
              " '/gdrive/My Drive/無標題的試算表 (4).gsheet',\n",
              " '/gdrive/My Drive/tibame',\n",
              " '/gdrive/My Drive/test.gsite',\n",
              " '/gdrive/My Drive/0517Demo.gsite',\n",
              " '/gdrive/My Drive/a.pptx',\n",
              " '/gdrive/My Drive/nlp_news_datasets',\n",
              " '/gdrive/My Drive/nlp_poems_datasets',\n",
              " '/gdrive/My Drive/ml',\n",
              " '/gdrive/My Drive/無標題的試算表 (2).gsheet',\n",
              " '/gdrive/My Drive/無標題的試算表 (3).gsheet',\n",
              " '/gdrive/My Drive/airbnb',\n",
              " '/gdrive/My Drive/Colab Notebooks',\n",
              " '/gdrive/My Drive/known_person',\n",
              " '/gdrive/My Drive/unknown_person']"
            ]
          },
          "metadata": {
            "tags": []
          },
          "execution_count": 3
        }
      ]
    },
    {
      "metadata": {
        "id": "aivmtAjD_skO",
        "colab_type": "code",
        "colab": {}
      },
      "cell_type": "code",
      "source": [
        "with open(\"/gdrive/My Drive/a.txt\", \"w\", encoding=\"utf-8\") as f:\n",
        "  f.write(\"testestest\")"
      ],
      "execution_count": 0,
      "outputs": []
    }
  ]
}